{
 "cells": [
  {
   "cell_type": "code",
   "execution_count": null,
   "metadata": {},
   "outputs": [],
   "source": [
    "import pandas as pd\n",
    "import numpy as np\n",
    "from geopy.distance import geodesic"
   ]
  },
  {
   "cell_type": "code",
   "execution_count": 2,
   "metadata": {},
   "outputs": [],
   "source": [
    "cer = pd.read_csv(\"links_cer.csv\")\n",
    "cer_result = pd.read_csv(\"Apis_cerana_result.csv\")\n",
    "\n",
    "mel = pd.read_csv(\"links_mel.csv\")\n",
    "mel_result = pd.read_csv(\"Apis_mellifera_result.csv\")"
   ]
  },
  {
   "cell_type": "code",
   "execution_count": 3,
   "metadata": {},
   "outputs": [],
   "source": [
    "id1 = 0\n",
    "id2 = 0"
   ]
  },
  {
   "cell_type": "code",
   "execution_count": 4,
   "metadata": {},
   "outputs": [],
   "source": [
    "\n",
    "\n",
    "def calculate_distance(df_result, id1, id2):\n",
    "    \"\"\"\n",
    "    데이터프레임의 id1번째 행과 id2번째 행의 위도, 경도를 비교하여 거리를 계산하는 함수.\n",
    "\n",
    "    Args:\n",
    "        df (pd.DataFrame): 위도(Latitude), 경도(Longitude) 열을 포함하는 Pandas DataFrame.\n",
    "        id1 (int): 비교할 첫 번째 행의 인덱스.\n",
    "        id2 (int): 비교할 두 번째 행의 인덱스.\n",
    "\n",
    "    Returns:\n",
    "        float: 두 지점 간 거리(km).\n",
    "    \"\"\"\n",
    "    if id1 == id2:\n",
    "        return 0.0  # 같은 행이면 거리 0\n",
    "\n",
    "    row1, row2 = df_result.iloc[id1], df_result.iloc[id2]\n",
    "    lat1, lon1 = row1['Latitude'], row1['Longitude']\n",
    "    lat2, lon2 = row2['Latitude'], row2['Longitude']\n",
    "\n",
    "    return geodesic((lat1, lon1), (lat2, lon2)).km\n",
    "\n",
    "# 사용 예시\n",
    "import pandas as pd\n",
    "\n",
    "df_result = cer_result\n"
   ]
  },
  {
   "cell_type": "code",
   "execution_count": 5,
   "metadata": {},
   "outputs": [],
   "source": [
    "cer['degree'] = 0\n",
    "mel['degree'] = 0"
   ]
  },
  {
   "cell_type": "code",
   "execution_count": 6,
   "metadata": {},
   "outputs": [
    {
     "name": "stderr",
     "output_type": "stream",
     "text": [
      "C:\\Users\\mycom\\AppData\\Local\\Temp\\ipykernel_8100\\1172803071.py:4: FutureWarning: ChainedAssignmentError: behaviour will change in pandas 3.0!\n",
      "You are setting values through chained assignment. Currently this works in certain cases, but when using Copy-on-Write (which will become the default behaviour in pandas 3.0) this will never work to update the original DataFrame or Series, because the intermediate object on which we are setting values will behave as a copy.\n",
      "A typical example is when you are setting values in a column of a DataFrame, like:\n",
      "\n",
      "df[\"col\"][row_indexer] = value\n",
      "\n",
      "Use `df.loc[row_indexer, \"col\"] = values` instead, to perform the assignment in a single step and ensure this keeps updating the original `df`.\n",
      "\n",
      "See the caveats in the documentation: https://pandas.pydata.org/pandas-docs/stable/user_guide/indexing.html#returning-a-view-versus-a-copy\n",
      "\n",
      "  cer['degree'][i] = calculate_distance(cer_result, id1-1, id2-1)\n",
      "C:\\Users\\mycom\\AppData\\Local\\Temp\\ipykernel_8100\\1172803071.py:4: FutureWarning: Setting an item of incompatible dtype is deprecated and will raise an error in a future version of pandas. Value '4.945334222479647' has dtype incompatible with int64, please explicitly cast to a compatible dtype first.\n",
      "  cer['degree'][i] = calculate_distance(cer_result, id1-1, id2-1)\n"
     ]
    }
   ],
   "source": [
    "for i in range(len(cer)):\n",
    "    id1 = cer['Source'][i]\n",
    "    id2 = cer['Target'][i]\n",
    "    cer['degree'][i] = calculate_distance(cer_result, id1-1, id2-1)\n"
   ]
  },
  {
   "cell_type": "code",
   "execution_count": 7,
   "metadata": {},
   "outputs": [
    {
     "data": {
      "text/html": [
       "<div>\n",
       "<style scoped>\n",
       "    .dataframe tbody tr th:only-of-type {\n",
       "        vertical-align: middle;\n",
       "    }\n",
       "\n",
       "    .dataframe tbody tr th {\n",
       "        vertical-align: top;\n",
       "    }\n",
       "\n",
       "    .dataframe thead th {\n",
       "        text-align: right;\n",
       "    }\n",
       "</style>\n",
       "<table border=\"1\" class=\"dataframe\">\n",
       "  <thead>\n",
       "    <tr style=\"text-align: right;\">\n",
       "      <th></th>\n",
       "      <th>Source</th>\n",
       "      <th>Target</th>\n",
       "      <th>degree</th>\n",
       "    </tr>\n",
       "  </thead>\n",
       "  <tbody>\n",
       "    <tr>\n",
       "      <th>0</th>\n",
       "      <td>1</td>\n",
       "      <td>2</td>\n",
       "      <td>4.945334</td>\n",
       "    </tr>\n",
       "    <tr>\n",
       "      <th>1</th>\n",
       "      <td>1</td>\n",
       "      <td>22</td>\n",
       "      <td>5.274187</td>\n",
       "    </tr>\n",
       "    <tr>\n",
       "      <th>2</th>\n",
       "      <td>1</td>\n",
       "      <td>162</td>\n",
       "      <td>5.274187</td>\n",
       "    </tr>\n",
       "    <tr>\n",
       "      <th>3</th>\n",
       "      <td>1</td>\n",
       "      <td>407</td>\n",
       "      <td>5.274187</td>\n",
       "    </tr>\n",
       "    <tr>\n",
       "      <th>4</th>\n",
       "      <td>1</td>\n",
       "      <td>782</td>\n",
       "      <td>5.274187</td>\n",
       "    </tr>\n",
       "    <tr>\n",
       "      <th>...</th>\n",
       "      <td>...</td>\n",
       "      <td>...</td>\n",
       "      <td>...</td>\n",
       "    </tr>\n",
       "    <tr>\n",
       "      <th>8497</th>\n",
       "      <td>1159</td>\n",
       "      <td>22</td>\n",
       "      <td>0.000000</td>\n",
       "    </tr>\n",
       "    <tr>\n",
       "      <th>8498</th>\n",
       "      <td>1159</td>\n",
       "      <td>162</td>\n",
       "      <td>0.000000</td>\n",
       "    </tr>\n",
       "    <tr>\n",
       "      <th>8499</th>\n",
       "      <td>1159</td>\n",
       "      <td>407</td>\n",
       "      <td>0.000000</td>\n",
       "    </tr>\n",
       "    <tr>\n",
       "      <th>8500</th>\n",
       "      <td>1159</td>\n",
       "      <td>782</td>\n",
       "      <td>0.000000</td>\n",
       "    </tr>\n",
       "    <tr>\n",
       "      <th>8501</th>\n",
       "      <td>1159</td>\n",
       "      <td>1078</td>\n",
       "      <td>0.000000</td>\n",
       "    </tr>\n",
       "  </tbody>\n",
       "</table>\n",
       "<p>8502 rows × 3 columns</p>\n",
       "</div>"
      ],
      "text/plain": [
       "      Source  Target    degree\n",
       "0          1       2  4.945334\n",
       "1          1      22  5.274187\n",
       "2          1     162  5.274187\n",
       "3          1     407  5.274187\n",
       "4          1     782  5.274187\n",
       "...      ...     ...       ...\n",
       "8497    1159      22  0.000000\n",
       "8498    1159     162  0.000000\n",
       "8499    1159     407  0.000000\n",
       "8500    1159     782  0.000000\n",
       "8501    1159    1078  0.000000\n",
       "\n",
       "[8502 rows x 3 columns]"
      ]
     },
     "execution_count": 7,
     "metadata": {},
     "output_type": "execute_result"
    }
   ],
   "source": [
    "cer"
   ]
  },
  {
   "cell_type": "code",
   "execution_count": 8,
   "metadata": {},
   "outputs": [
    {
     "data": {
      "text/plain": [
       "'개다래'"
      ]
     },
     "execution_count": 8,
     "metadata": {},
     "output_type": "execute_result"
    }
   ],
   "source": [
    "cer_result['종'][id1-1]"
   ]
  },
  {
   "cell_type": "code",
   "execution_count": 10,
   "metadata": {},
   "outputs": [],
   "source": [
    "cer[\"degree_weight\"] = 1 / cer[\"degree\"]"
   ]
  },
  {
   "cell_type": "code",
   "execution_count": 21,
   "metadata": {},
   "outputs": [
    {
     "data": {
      "text/html": [
       "<div>\n",
       "<style scoped>\n",
       "    .dataframe tbody tr th:only-of-type {\n",
       "        vertical-align: middle;\n",
       "    }\n",
       "\n",
       "    .dataframe tbody tr th {\n",
       "        vertical-align: top;\n",
       "    }\n",
       "\n",
       "    .dataframe thead th {\n",
       "        text-align: right;\n",
       "    }\n",
       "</style>\n",
       "<table border=\"1\" class=\"dataframe\">\n",
       "  <thead>\n",
       "    <tr style=\"text-align: right;\">\n",
       "      <th></th>\n",
       "      <th>Source</th>\n",
       "      <th>Target</th>\n",
       "      <th>degree</th>\n",
       "      <th>degree_weight</th>\n",
       "    </tr>\n",
       "  </thead>\n",
       "  <tbody>\n",
       "    <tr>\n",
       "      <th>0</th>\n",
       "      <td>1</td>\n",
       "      <td>2</td>\n",
       "      <td>4.945334</td>\n",
       "      <td>0.202211</td>\n",
       "    </tr>\n",
       "    <tr>\n",
       "      <th>1</th>\n",
       "      <td>1</td>\n",
       "      <td>22</td>\n",
       "      <td>5.274187</td>\n",
       "      <td>0.189603</td>\n",
       "    </tr>\n",
       "    <tr>\n",
       "      <th>2</th>\n",
       "      <td>1</td>\n",
       "      <td>162</td>\n",
       "      <td>5.274187</td>\n",
       "      <td>0.189603</td>\n",
       "    </tr>\n",
       "    <tr>\n",
       "      <th>3</th>\n",
       "      <td>1</td>\n",
       "      <td>407</td>\n",
       "      <td>5.274187</td>\n",
       "      <td>0.189603</td>\n",
       "    </tr>\n",
       "    <tr>\n",
       "      <th>4</th>\n",
       "      <td>1</td>\n",
       "      <td>782</td>\n",
       "      <td>5.274187</td>\n",
       "      <td>0.189603</td>\n",
       "    </tr>\n",
       "    <tr>\n",
       "      <th>...</th>\n",
       "      <td>...</td>\n",
       "      <td>...</td>\n",
       "      <td>...</td>\n",
       "      <td>...</td>\n",
       "    </tr>\n",
       "    <tr>\n",
       "      <th>8497</th>\n",
       "      <td>1159</td>\n",
       "      <td>22</td>\n",
       "      <td>0.000000</td>\n",
       "      <td>1.000000</td>\n",
       "    </tr>\n",
       "    <tr>\n",
       "      <th>8498</th>\n",
       "      <td>1159</td>\n",
       "      <td>162</td>\n",
       "      <td>0.000000</td>\n",
       "      <td>1.000000</td>\n",
       "    </tr>\n",
       "    <tr>\n",
       "      <th>8499</th>\n",
       "      <td>1159</td>\n",
       "      <td>407</td>\n",
       "      <td>0.000000</td>\n",
       "      <td>1.000000</td>\n",
       "    </tr>\n",
       "    <tr>\n",
       "      <th>8500</th>\n",
       "      <td>1159</td>\n",
       "      <td>782</td>\n",
       "      <td>0.000000</td>\n",
       "      <td>1.000000</td>\n",
       "    </tr>\n",
       "    <tr>\n",
       "      <th>8501</th>\n",
       "      <td>1159</td>\n",
       "      <td>1078</td>\n",
       "      <td>0.000000</td>\n",
       "      <td>1.000000</td>\n",
       "    </tr>\n",
       "  </tbody>\n",
       "</table>\n",
       "<p>8502 rows × 4 columns</p>\n",
       "</div>"
      ],
      "text/plain": [
       "      Source  Target    degree  degree_weight\n",
       "0          1       2  4.945334       0.202211\n",
       "1          1      22  5.274187       0.189603\n",
       "2          1     162  5.274187       0.189603\n",
       "3          1     407  5.274187       0.189603\n",
       "4          1     782  5.274187       0.189603\n",
       "...      ...     ...       ...            ...\n",
       "8497    1159      22  0.000000       1.000000\n",
       "8498    1159     162  0.000000       1.000000\n",
       "8499    1159     407  0.000000       1.000000\n",
       "8500    1159     782  0.000000       1.000000\n",
       "8501    1159    1078  0.000000       1.000000\n",
       "\n",
       "[8502 rows x 4 columns]"
      ]
     },
     "execution_count": 21,
     "metadata": {},
     "output_type": "execute_result"
    }
   ],
   "source": [
    "cer"
   ]
  },
  {
   "cell_type": "code",
   "execution_count": null,
   "metadata": {},
   "outputs": [],
   "source": [
    "cer['degree_weight'] = np.where(cer['degree'] == 0, 1, 1 / cer['degree'])"
   ]
  },
  {
   "cell_type": "code",
   "execution_count": 1,
   "metadata": {},
   "outputs": [
    {
     "ename": "NameError",
     "evalue": "name 'cer' is not defined",
     "output_type": "error",
     "traceback": [
      "\u001b[1;31m---------------------------------------------------------------------------\u001b[0m",
      "\u001b[1;31mNameError\u001b[0m                                 Traceback (most recent call last)",
      "Cell \u001b[1;32mIn[1], line 1\u001b[0m\n\u001b[1;32m----> 1\u001b[0m \u001b[43mcer\u001b[49m\u001b[38;5;241m.\u001b[39mto_csv(\u001b[38;5;124m\"\u001b[39m\u001b[38;5;124mlinks_cer.csv\u001b[39m\u001b[38;5;124m\"\u001b[39m, index\u001b[38;5;241m=\u001b[39m\u001b[38;5;28;01mFalse\u001b[39;00m)\n",
      "\u001b[1;31mNameError\u001b[0m: name 'cer' is not defined"
     ]
    }
   ],
   "source": [
    "cer.to_csv(\"links_cer.csv\", index=False)"
   ]
  },
  {
   "cell_type": "code",
   "execution_count": 23,
   "metadata": {},
   "outputs": [],
   "source": [
    "def calculate_distance(df_result, id1, id2):\n",
    "    \"\"\"\n",
    "    데이터프레임의 id1번째 행과 id2번째 행의 위도, 경도를 비교하여 거리를 계산하는 함수.\n",
    "\n",
    "    Args:\n",
    "        df (pd.DataFrame): 위도(Latitude), 경도(Longitude) 열을 포함하는 Pandas DataFrame.\n",
    "        id1 (int): 비교할 첫 번째 행의 인덱스.\n",
    "        id2 (int): 비교할 두 번째 행의 인덱스.\n",
    "\n",
    "    Returns:\n",
    "        float: 두 지점 간 거리(km).\n",
    "    \"\"\"\n",
    "    if id1 == id2:\n",
    "        return 0.0  # 같은 행이면 거리 0\n",
    "\n",
    "    row1, row2 = df_result.iloc[id1], df_result.iloc[id2]\n",
    "    lat1, lon1 = row1['Latitude'], row1['Longitude']\n",
    "    lat2, lon2 = row2['Latitude'], row2['Longitude']\n",
    "\n",
    "    return geodesic((lat1, lon1), (lat2, lon2)).km\n",
    "\n",
    "# 사용 예시\n",
    "import pandas as pd\n",
    "\n",
    "df_result = mel_result"
   ]
  },
  {
   "cell_type": "code",
   "execution_count": 15,
   "metadata": {},
   "outputs": [
    {
     "name": "stderr",
     "output_type": "stream",
     "text": [
      "C:\\Users\\mycom\\AppData\\Local\\Temp\\ipykernel_8100\\1906553739.py:4: FutureWarning: ChainedAssignmentError: behaviour will change in pandas 3.0!\n",
      "You are setting values through chained assignment. Currently this works in certain cases, but when using Copy-on-Write (which will become the default behaviour in pandas 3.0) this will never work to update the original DataFrame or Series, because the intermediate object on which we are setting values will behave as a copy.\n",
      "A typical example is when you are setting values in a column of a DataFrame, like:\n",
      "\n",
      "df[\"col\"][row_indexer] = value\n",
      "\n",
      "Use `df.loc[row_indexer, \"col\"] = values` instead, to perform the assignment in a single step and ensure this keeps updating the original `df`.\n",
      "\n",
      "See the caveats in the documentation: https://pandas.pydata.org/pandas-docs/stable/user_guide/indexing.html#returning-a-view-versus-a-copy\n",
      "\n",
      "  mel['degree'][i] = calculate_distance(mel_result, id1-1, id2-1)\n",
      "C:\\Users\\mycom\\AppData\\Local\\Temp\\ipykernel_8100\\1906553739.py:4: FutureWarning: Setting an item of incompatible dtype is deprecated and will raise an error in a future version of pandas. Value '2.8157102606141797' has dtype incompatible with int64, please explicitly cast to a compatible dtype first.\n",
      "  mel['degree'][i] = calculate_distance(mel_result, id1-1, id2-1)\n"
     ]
    }
   ],
   "source": [
    "for i in range(len(mel)):\n",
    "    id1 = mel['Source'][i]\n",
    "    id2 = mel['Target'][i]\n",
    "    mel['degree'][i] = calculate_distance(mel_result, id1-1, id2-1)\n"
   ]
  },
  {
   "cell_type": "code",
   "execution_count": 16,
   "metadata": {},
   "outputs": [
    {
     "data": {
      "text/plain": [
       "'개옻나무'"
      ]
     },
     "execution_count": 16,
     "metadata": {},
     "output_type": "execute_result"
    }
   ],
   "source": [
    "mel_result['종'][id1-1]"
   ]
  },
  {
   "cell_type": "code",
   "execution_count": 17,
   "metadata": {},
   "outputs": [],
   "source": [
    "mel[\"degree_weight\"] = 1 / mel[\"degree\"]"
   ]
  },
  {
   "cell_type": "code",
   "execution_count": 24,
   "metadata": {},
   "outputs": [],
   "source": [
    "mel['degree_weight'] = np.where(mel['degree'] == 0, 1, 1 / mel['degree'])"
   ]
  },
  {
   "cell_type": "code",
   "execution_count": 25,
   "metadata": {},
   "outputs": [
    {
     "data": {
      "text/html": [
       "<div>\n",
       "<style scoped>\n",
       "    .dataframe tbody tr th:only-of-type {\n",
       "        vertical-align: middle;\n",
       "    }\n",
       "\n",
       "    .dataframe tbody tr th {\n",
       "        vertical-align: top;\n",
       "    }\n",
       "\n",
       "    .dataframe thead th {\n",
       "        text-align: right;\n",
       "    }\n",
       "</style>\n",
       "<table border=\"1\" class=\"dataframe\">\n",
       "  <thead>\n",
       "    <tr style=\"text-align: right;\">\n",
       "      <th></th>\n",
       "      <th>Source</th>\n",
       "      <th>Target</th>\n",
       "      <th>degree</th>\n",
       "      <th>degree_weight</th>\n",
       "    </tr>\n",
       "  </thead>\n",
       "  <tbody>\n",
       "    <tr>\n",
       "      <th>0</th>\n",
       "      <td>5</td>\n",
       "      <td>17</td>\n",
       "      <td>2.815710</td>\n",
       "      <td>0.355150</td>\n",
       "    </tr>\n",
       "    <tr>\n",
       "      <th>1</th>\n",
       "      <td>6</td>\n",
       "      <td>7</td>\n",
       "      <td>0.000000</td>\n",
       "      <td>1.000000</td>\n",
       "    </tr>\n",
       "    <tr>\n",
       "      <th>2</th>\n",
       "      <td>6</td>\n",
       "      <td>23</td>\n",
       "      <td>1.894902</td>\n",
       "      <td>0.527732</td>\n",
       "    </tr>\n",
       "    <tr>\n",
       "      <th>3</th>\n",
       "      <td>7</td>\n",
       "      <td>6</td>\n",
       "      <td>0.000000</td>\n",
       "      <td>1.000000</td>\n",
       "    </tr>\n",
       "    <tr>\n",
       "      <th>4</th>\n",
       "      <td>7</td>\n",
       "      <td>23</td>\n",
       "      <td>1.894902</td>\n",
       "      <td>0.527732</td>\n",
       "    </tr>\n",
       "    <tr>\n",
       "      <th>...</th>\n",
       "      <td>...</td>\n",
       "      <td>...</td>\n",
       "      <td>...</td>\n",
       "      <td>...</td>\n",
       "    </tr>\n",
       "    <tr>\n",
       "      <th>147</th>\n",
       "      <td>150</td>\n",
       "      <td>117</td>\n",
       "      <td>5.989907</td>\n",
       "      <td>0.166947</td>\n",
       "    </tr>\n",
       "    <tr>\n",
       "      <th>148</th>\n",
       "      <td>155</td>\n",
       "      <td>117</td>\n",
       "      <td>3.828121</td>\n",
       "      <td>0.261225</td>\n",
       "    </tr>\n",
       "    <tr>\n",
       "      <th>149</th>\n",
       "      <td>155</td>\n",
       "      <td>156</td>\n",
       "      <td>0.000000</td>\n",
       "      <td>1.000000</td>\n",
       "    </tr>\n",
       "    <tr>\n",
       "      <th>150</th>\n",
       "      <td>156</td>\n",
       "      <td>117</td>\n",
       "      <td>3.828121</td>\n",
       "      <td>0.261225</td>\n",
       "    </tr>\n",
       "    <tr>\n",
       "      <th>151</th>\n",
       "      <td>156</td>\n",
       "      <td>155</td>\n",
       "      <td>0.000000</td>\n",
       "      <td>1.000000</td>\n",
       "    </tr>\n",
       "  </tbody>\n",
       "</table>\n",
       "<p>152 rows × 4 columns</p>\n",
       "</div>"
      ],
      "text/plain": [
       "     Source  Target    degree  degree_weight\n",
       "0         5      17  2.815710       0.355150\n",
       "1         6       7  0.000000       1.000000\n",
       "2         6      23  1.894902       0.527732\n",
       "3         7       6  0.000000       1.000000\n",
       "4         7      23  1.894902       0.527732\n",
       "..      ...     ...       ...            ...\n",
       "147     150     117  5.989907       0.166947\n",
       "148     155     117  3.828121       0.261225\n",
       "149     155     156  0.000000       1.000000\n",
       "150     156     117  3.828121       0.261225\n",
       "151     156     155  0.000000       1.000000\n",
       "\n",
       "[152 rows x 4 columns]"
      ]
     },
     "execution_count": 25,
     "metadata": {},
     "output_type": "execute_result"
    }
   ],
   "source": [
    "mel"
   ]
  },
  {
   "cell_type": "code",
   "execution_count": null,
   "metadata": {},
   "outputs": [],
   "source": [
    "mel.to_csv(\"links_mel.csv, index=False\")"
   ]
  }
 ],
 "metadata": {
  "kernelspec": {
   "display_name": "Python 3",
   "language": "python",
   "name": "python3"
  },
  "language_info": {
   "codemirror_mode": {
    "name": "ipython",
    "version": 3
   },
   "file_extension": ".py",
   "mimetype": "text/x-python",
   "name": "python",
   "nbconvert_exporter": "python",
   "pygments_lexer": "ipython3",
   "version": "3.12.4"
  }
 },
 "nbformat": 4,
 "nbformat_minor": 2
}
