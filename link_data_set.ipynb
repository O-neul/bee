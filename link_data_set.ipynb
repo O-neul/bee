{
 "cells": [
  {
   "cell_type": "code",
   "execution_count": 16,
   "metadata": {},
   "outputs": [
    {
     "name": "stdout",
     "output_type": "stream",
     "text": [
      "      nearby_id_1  nearby_id_2  nearby_id_3  nearby_id_4  nearby_id_5  \\\n",
      "0             2.0         22.0        162.0        407.0        782.0   \n",
      "1             1.0          NaN          NaN          NaN          NaN   \n",
      "2            81.0         83.0        165.0        272.0        325.0   \n",
      "3            15.0         80.0        102.0        136.0        211.0   \n",
      "4            22.0        162.0        407.0        782.0       1078.0   \n",
      "...           ...          ...          ...          ...          ...   \n",
      "1154        144.0          NaN          NaN          NaN          NaN   \n",
      "1155          NaN          NaN          NaN          NaN          NaN   \n",
      "1156          3.0         81.0         83.0        165.0        272.0   \n",
      "1157          NaN          NaN          NaN          NaN          NaN   \n",
      "1158          1.0          5.0         22.0        162.0        407.0   \n",
      "\n",
      "      nearby_id_6  nearby_id_7  nearby_id_8  nearby_id_9  nearby_id_10  ...  \\\n",
      "0          1078.0       1159.0          NaN          NaN           NaN  ...   \n",
      "1             NaN          NaN          NaN          NaN           NaN  ...   \n",
      "2           372.0        470.0        498.0        556.0         600.0  ...   \n",
      "3           219.0        419.0        547.0        548.0         592.0  ...   \n",
      "4          1159.0          NaN          NaN          NaN           NaN  ...   \n",
      "...           ...          ...          ...          ...           ...  ...   \n",
      "1154          NaN          NaN          NaN          NaN           NaN  ...   \n",
      "1155          NaN          NaN          NaN          NaN           NaN  ...   \n",
      "1156        325.0        372.0        470.0        498.0         556.0  ...   \n",
      "1157          NaN          NaN          NaN          NaN           NaN  ...   \n",
      "1158        782.0       1078.0          NaN          NaN           NaN  ...   \n",
      "\n",
      "      nearby_id_19  nearby_id_20  nearby_id_21  nearby_id_22  nearby_id_23  \\\n",
      "0              NaN           NaN           NaN           NaN           NaN   \n",
      "1              NaN           NaN           NaN           NaN           NaN   \n",
      "2           1120.0        1149.0        1157.0           NaN           NaN   \n",
      "3              NaN           NaN           NaN           NaN           NaN   \n",
      "4              NaN           NaN           NaN           NaN           NaN   \n",
      "...            ...           ...           ...           ...           ...   \n",
      "1154           NaN           NaN           NaN           NaN           NaN   \n",
      "1155           NaN           NaN           NaN           NaN           NaN   \n",
      "1156        1116.0        1120.0        1149.0           NaN           NaN   \n",
      "1157           NaN           NaN           NaN           NaN           NaN   \n",
      "1158           NaN           NaN           NaN           NaN           NaN   \n",
      "\n",
      "      nearby_id_24  nearby_id_25  nearby_id_26  nearby_id_27  nearby_id_28  \n",
      "0              NaN           NaN           NaN           NaN           NaN  \n",
      "1              NaN           NaN           NaN           NaN           NaN  \n",
      "2              NaN           NaN           NaN           NaN           NaN  \n",
      "3              NaN           NaN           NaN           NaN           NaN  \n",
      "4              NaN           NaN           NaN           NaN           NaN  \n",
      "...            ...           ...           ...           ...           ...  \n",
      "1154           NaN           NaN           NaN           NaN           NaN  \n",
      "1155           NaN           NaN           NaN           NaN           NaN  \n",
      "1156           NaN           NaN           NaN           NaN           NaN  \n",
      "1157           NaN           NaN           NaN           NaN           NaN  \n",
      "1158           NaN           NaN           NaN           NaN           NaN  \n",
      "\n",
      "[1159 rows x 28 columns]\n"
     ]
    }
   ],
   "source": [
    "import pandas as pd\n",
    "from geopy.distance import geodesic\n",
    "\n",
    "def find_nearby_rows(df, distance_threshold=6):\n",
    "    \"\"\"\n",
    "    각 행의 위도 및 경도를 비교하고, 거리가 지정된 임계값(km) 이내인 행을 찾는 함수.\n",
    "\n",
    "    Args:\n",
    "        df (pd.DataFrame): 위도, 경도 및 ID 열을 포함하는 Pandas DataFrame.\n",
    "        distance_threshold (float): km 단위의 거리 임계값 (기본값: 6).\n",
    "\n",
    "    Returns:\n",
    "        pd.DataFrame: 각 행에 대해 거리가 임계값 이내인 다른 행의 ID를 포함하는 DataFrame.\n",
    "    \"\"\"\n",
    "\n",
    "    n_rows = len(df)\n",
    "    nearby_ids = []\n",
    "\n",
    "    for i in range(n_rows):\n",
    "        row1 = df.iloc[i]\n",
    "        lat1, lon1 = row1['Latitude'], row1['Longitude']\n",
    "        nearby_rows_for_i = []\n",
    "\n",
    "        for j in range(n_rows):\n",
    "            if i == j:  # 동일한 행은 비교하지 X\n",
    "                continue\n",
    "\n",
    "            row2 = df.iloc[j]\n",
    "            lat2, lon2 = row2['Latitude'], row2['Longitude']\n",
    "\n",
    "            # geopy 라이브러리의 geodesic 함수를 사용, 두 지점 간의 거리를 계산\n",
    "            distance = geodesic((lat1, lon1), (lat2, lon2)).km\n",
    "\n",
    "            if distance <= distance_threshold:\n",
    "                nearby_rows_for_i.append(row2['ID'])\n",
    "\n",
    "        nearby_ids.append(nearby_rows_for_i)\n",
    "\n",
    "    # result df 생성\n",
    "    result_df = pd.DataFrame(index=df.index)\n",
    "\n",
    "    for k in range(len(nearby_ids)):\n",
    "      for l in range(len(nearby_ids[k])):\n",
    "        result_df.loc[k, f'nearby_id_{l+1}'] = nearby_ids[k][l]\n",
    "\n",
    "    return result_df\n",
    "\n",
    "\n",
    "# 입력데이터\n",
    "df = pd.read_csv(\"Apis_cerana_result.csv\")\n",
    "\n",
    "\n",
    "result = find_nearby_rows(df)\n",
    "print(result)"
   ]
  },
  {
   "cell_type": "code",
   "execution_count": 18,
   "metadata": {},
   "outputs": [],
   "source": [
    "result.to_csv(\"nearby_id_under6km_cer.csv\")"
   ]
  },
  {
   "cell_type": "code",
   "execution_count": 9,
   "metadata": {},
   "outputs": [
    {
     "name": "stdout",
     "output_type": "stream",
     "text": [
      "     nearby_id_1  nearby_id_2  nearby_id_3  nearby_id_4  nearby_id_5\n",
      "0            NaN          NaN          NaN          NaN          NaN\n",
      "1            NaN          NaN          NaN          NaN          NaN\n",
      "2            NaN          NaN          NaN          NaN          NaN\n",
      "3            NaN          NaN          NaN          NaN          NaN\n",
      "4           17.0          NaN          NaN          NaN          NaN\n",
      "..           ...          ...          ...          ...          ...\n",
      "155        117.0        155.0          NaN          NaN          NaN\n",
      "156          NaN          NaN          NaN          NaN          NaN\n",
      "157          NaN          NaN          NaN          NaN          NaN\n",
      "158          NaN          NaN          NaN          NaN          NaN\n",
      "159          NaN          NaN          NaN          NaN          NaN\n",
      "\n",
      "[160 rows x 5 columns]\n"
     ]
    }
   ],
   "source": [
    "df1 = pd.read_csv(\"Apis_mellifera_result.csv\")\n",
    "\n",
    "\n",
    "result1 = find_nearby_rows(df1)\n",
    "print(result1)"
   ]
  },
  {
   "cell_type": "code",
   "execution_count": 10,
   "metadata": {},
   "outputs": [],
   "source": [
    "result1.to_csv(\"nearby_id_under6km_mel.csv\")"
   ]
  },
  {
   "cell_type": "code",
   "execution_count": 19,
   "metadata": {},
   "outputs": [
    {
     "name": "stdout",
     "output_type": "stream",
     "text": [
      "\n",
      "링크 데이터:\n",
      "       Source  Target\n",
      "0          1     2.0\n",
      "1          1    22.0\n",
      "2          1   162.0\n",
      "3          1   407.0\n",
      "4          1   782.0\n",
      "...      ...     ...\n",
      "8497    1159    22.0\n",
      "8498    1159   162.0\n",
      "8499    1159   407.0\n",
      "8500    1159   782.0\n",
      "8501    1159  1078.0\n",
      "\n",
      "[8502 rows x 2 columns]\n"
     ]
    }
   ],
   "source": [
    "links = []\n",
    "for i in range(len(df)):\n",
    "    for j in range(1, len(result.columns) + 1):  # nearby_id 열 순회\n",
    "        nearby_id = result.loc[i, f'nearby_id_{j}']\n",
    "        if pd.notna(nearby_id):  # NaN 값이 아닌 경우에만 링크 생성\n",
    "            links.append({'Source': df.loc[i, 'ID'], 'Target': nearby_id})\n",
    "\n",
    "links_df = pd.DataFrame(links)\n",
    "print(\"\\n링크 데이터:\\n\", links_df)"
   ]
  },
  {
   "cell_type": "code",
   "execution_count": 20,
   "metadata": {},
   "outputs": [],
   "source": [
    "links_df.to_csv(\"links_cer.csv\")"
   ]
  },
  {
   "cell_type": "code",
   "execution_count": 11,
   "metadata": {},
   "outputs": [
    {
     "name": "stdout",
     "output_type": "stream",
     "text": [
      "\n",
      "링크 데이터:\n",
      "      Source  Target\n",
      "0         5    17.0\n",
      "1         6     7.0\n",
      "2         6    23.0\n",
      "3         7     6.0\n",
      "4         7    23.0\n",
      "..      ...     ...\n",
      "147     150   117.0\n",
      "148     155   117.0\n",
      "149     155   156.0\n",
      "150     156   117.0\n",
      "151     156   155.0\n",
      "\n",
      "[152 rows x 2 columns]\n"
     ]
    }
   ],
   "source": [
    "links1 = []\n",
    "for i in range(len(df1)):\n",
    "    for j in range(1, len(result1.columns) + 1):  # nearby_id 열 순회\n",
    "        nearby_id1 = result1.loc[i, f'nearby_id_{j}']\n",
    "        if pd.notna(nearby_id1):  # NaN 값이 아닌 경우에만 링크 생성\n",
    "            links1.append({'Source': df1.loc[i, 'ID'], 'Target': nearby_id1})\n",
    "\n",
    "links_df1 = pd.DataFrame(links1)\n",
    "print(\"\\n링크 데이터:\\n\", links_df1)"
   ]
  },
  {
   "cell_type": "code",
   "execution_count": 21,
   "metadata": {},
   "outputs": [],
   "source": [
    "links_df1.to_csv(\"links_mel.csv\")"
   ]
  }
 ],
 "metadata": {
  "kernelspec": {
   "display_name": "Python 3",
   "language": "python",
   "name": "python3"
  },
  "language_info": {
   "codemirror_mode": {
    "name": "ipython",
    "version": 3
   },
   "file_extension": ".py",
   "mimetype": "text/x-python",
   "name": "python",
   "nbconvert_exporter": "python",
   "pygments_lexer": "ipython3",
   "version": "3.12.4"
  }
 },
 "nbformat": 4,
 "nbformat_minor": 2
}
