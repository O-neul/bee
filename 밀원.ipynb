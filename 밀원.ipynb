{
 "cells": [
  {
   "cell_type": "code",
   "execution_count": 2,
   "metadata": {},
   "outputs": [],
   "source": [
    "import pandas as pd\n",
    "\n",
    "# 파일 경로\n",
    "file_path = '꿀벌/밀원.csv'"
   ]
  },
  {
   "cell_type": "code",
   "execution_count": 3,
   "metadata": {},
   "outputs": [
    {
     "name": "stdout",
     "output_type": "stream",
     "text": [
      "<class 'pandas.core.frame.DataFrame'>\n",
      "RangeIndex: 9500 entries, 0 to 9499\n",
      "Data columns (total 8 columns):\n",
      " #   Column  Non-Null Count  Dtype  \n",
      "---  ------  --------------  -----  \n",
      " 0   id      9500 non-null   int64  \n",
      " 1   학명      9500 non-null   object \n",
      " 2   종       9500 non-null   object \n",
      " 3   경도      9500 non-null   float64\n",
      " 4   위도      9500 non-null   float64\n",
      " 5   관찰일자    9442 non-null   object \n",
      " 6   연도      9500 non-null   int64  \n",
      " 7   지역      9479 non-null   object \n",
      "dtypes: float64(2), int64(2), object(4)\n",
      "memory usage: 593.9+ KB\n"
     ]
    },
    {
     "data": {
      "text/plain": [
       "(None,\n",
       "                  id                학명    종         경도          위도        관찰일자  \\\n",
       " 0  3000000001070432  Castanea crenata  밤나무  37.787469  127.608081  2014-07-19   \n",
       " 1  3000000001098625  Castanea crenata  밤나무  37.732056  127.870139  2014-07-22   \n",
       " 2  3000000001098626  Castanea crenata  밤나무  37.732056  127.870139  2014-07-22   \n",
       " 3  3000000001242504  Castanea crenata  밤나무  37.949056  127.847944  2014-06-12   \n",
       " 4  3000000001254984  Castanea crenata  밤나무  37.931361  127.644889  2014-06-13   \n",
       " \n",
       "      연도   지역  \n",
       " 0  2014  강원도  \n",
       " 1  2014  강원도  \n",
       " 2  2014  강원도  \n",
       " 3  2014  강원도  \n",
       " 4  2014  강원도  )"
      ]
     },
     "execution_count": 3,
     "metadata": {},
     "output_type": "execute_result"
    }
   ],
   "source": [
    "# 파일 인코딩을 'euc-kr'로 설정하여 읽기\n",
    "df = pd.read_csv(file_path, encoding='euc-kr')\n",
    "\n",
    "# 데이터프레임의 구조와 상위 5개 데이터 확인\n",
    "df.info(), df.head()\n"
   ]
  },
  {
   "cell_type": "code",
   "execution_count": 4,
   "metadata": {},
   "outputs": [
    {
     "data": {
      "text/html": [
       "<div>\n",
       "<style scoped>\n",
       "    .dataframe tbody tr th:only-of-type {\n",
       "        vertical-align: middle;\n",
       "    }\n",
       "\n",
       "    .dataframe tbody tr th {\n",
       "        vertical-align: top;\n",
       "    }\n",
       "\n",
       "    .dataframe thead th {\n",
       "        text-align: right;\n",
       "    }\n",
       "</style>\n",
       "<table border=\"1\" class=\"dataframe\">\n",
       "  <thead>\n",
       "    <tr style=\"text-align: right;\">\n",
       "      <th></th>\n",
       "      <th>종</th>\n",
       "      <th>위도</th>\n",
       "      <th>경도</th>\n",
       "      <th>카운트</th>\n",
       "    </tr>\n",
       "  </thead>\n",
       "  <tbody>\n",
       "    <tr>\n",
       "      <th>0</th>\n",
       "      <td>가시나무</td>\n",
       "      <td>126.191617</td>\n",
       "      <td>34.284933</td>\n",
       "      <td>1</td>\n",
       "    </tr>\n",
       "    <tr>\n",
       "      <th>1</th>\n",
       "      <td>가시나무</td>\n",
       "      <td>126.198840</td>\n",
       "      <td>34.282386</td>\n",
       "      <td>1</td>\n",
       "    </tr>\n",
       "    <tr>\n",
       "      <th>2</th>\n",
       "      <td>가시나무</td>\n",
       "      <td>127.454917</td>\n",
       "      <td>34.956614</td>\n",
       "      <td>1</td>\n",
       "    </tr>\n",
       "    <tr>\n",
       "      <th>3</th>\n",
       "      <td>갈졸참나무</td>\n",
       "      <td>124.719528</td>\n",
       "      <td>37.965389</td>\n",
       "      <td>1</td>\n",
       "    </tr>\n",
       "    <tr>\n",
       "      <th>4</th>\n",
       "      <td>갈졸참나무</td>\n",
       "      <td>127.245886</td>\n",
       "      <td>37.505239</td>\n",
       "      <td>1</td>\n",
       "    </tr>\n",
       "  </tbody>\n",
       "</table>\n",
       "</div>"
      ],
      "text/plain": [
       "       종          위도         경도  카운트\n",
       "0   가시나무  126.191617  34.284933    1\n",
       "1   가시나무  126.198840  34.282386    1\n",
       "2   가시나무  127.454917  34.956614    1\n",
       "3  갈졸참나무  124.719528  37.965389    1\n",
       "4  갈졸참나무  127.245886  37.505239    1"
      ]
     },
     "execution_count": 4,
     "metadata": {},
     "output_type": "execute_result"
    }
   ],
   "source": [
    "# '종'별로 같은 좌표(경도, 위도)에 위치한 데이터의 개수를 카운트\n",
    "count_data = df.groupby(['종', '위도', '경도']).size().reset_index(name='카운트')\n",
    "\n",
    "# 상위 데이터 확인\n",
    "count_data.head()\n"
   ]
  },
  {
   "cell_type": "code",
   "execution_count": 5,
   "metadata": {},
   "outputs": [],
   "source": [
    "# count_data를 CSV 파일로 저장하는 코드\n",
    "output_file_path = '꿀벌/count_data.csv'\n",
    "count_data.to_csv(output_file_path, index=False, encoding='euc-kr')"
   ]
  }
 ],
 "metadata": {
  "kernelspec": {
   "display_name": "Python 3",
   "language": "python",
   "name": "python3"
  },
  "language_info": {
   "codemirror_mode": {
    "name": "ipython",
    "version": 3
   },
   "file_extension": ".py",
   "mimetype": "text/x-python",
   "name": "python",
   "nbconvert_exporter": "python",
   "pygments_lexer": "ipython3",
   "version": "3.12.4"
  }
 },
 "nbformat": 4,
 "nbformat_minor": 2
}
