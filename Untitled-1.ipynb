{
 "cells": [
  {
   "cell_type": "code",
   "execution_count": null,
   "metadata": {},
   "outputs": [],
   "source": [
    "import pandas as pd\n",
    "\n",
    "bee = pd.read_csv('bee_filtered.csv')\n",
    "tree = pd.read_csv('count_data.csv')\n",
    "\n",
    "dis = #거리 저장\n",
    "\n",
    "for i in bee:\n",
    "    for j in tree:\n",
    "        #bee의 i번째 행과 tree의 j번째 행의 거리 계산 후 무엇을? dis에 저장.\n",
    "        #이전에 저장된 dis의 값과 현재 for문에서 계산된 거리를 비교 후 큰 것만 dis에 저장\n",
    "    #선택된 dis의 값과 bee를 엮어서 하나의 데이터로 만들기\n",
    "\n",
    "#이때 같은 id를 받은 지역의 좌표를 그냥 bee의 좌표로 가져감.\n",
    "#plot 찍기"
   ]
  }
 ],
 "metadata": {
  "kernelspec": {
   "display_name": "Python 3",
   "language": "python",
   "name": "python3"
  },
  "language_info": {
   "name": "python",
   "version": "3.10.4"
  }
 },
 "nbformat": 4,
 "nbformat_minor": 2
}
