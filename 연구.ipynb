{
 "cells": [
  {
   "cell_type": "markdown",
   "metadata": {},
   "source": [
    "### 연구 주제\n",
    "\n",
    "꿀벌 종별 밀원 선호도 차이가 낭충봉아부패병 확산에 미치는 영향"
   ]
  },
  {
   "cell_type": "markdown",
   "metadata": {},
   "source": [
    "### 연구 배경"
   ]
  },
  {
   "cell_type": "markdown",
   "metadata": {},
   "source": [
    "### 연구 목적\n",
    "\n",
    "꿀벌 종에 따라 밀원 선호도가 다르다는 점이 낭충봉아부패병의 확산에 영향을 미치는지를 분석.\n",
    "(밀원 선호도가 낭충봉아부패병의 확산이 영향을 받는 경우,) 해당 연구를 통해 전염병 확산 방지를 위한 보다 효과적인 방역 및 관리 대책을 마련하는 데 기여"
   ]
  },
  {
   "cell_type": "markdown",
   "metadata": {},
   "source": [
    "### 연구 내용"
   ]
  },
  {
   "cell_type": "markdown",
   "metadata": {},
   "source": [
    "- 전국 5개년 밀원 데이터\n",
    "\n",
    "- 5개년 낭충봉아부패병 감염 데이터\n",
    "\n",
    "꿀벌 종 필터링-재래종, 개량종만 남김\n",
    "\n",
    "감염 꿀벌 군집과 가까운 밀원 군집 데이터 병합\n",
    "\n",
    "6km 이내의 다른 감염 꿀벌 군집 거리 계산 및 링크 데이터 생성\n",
    "\n",
    "거리 및 감염 개체 수에 따른 가중치 계산"
   ]
  },
  {
   "cell_type": "markdown",
   "metadata": {},
   "source": [
    "### 연구 방법\n",
    "- 연구 대상: 재래꿀벌과 서양꿀벌\n",
    "- 측정 도구: 낭충봉아부패병 감염 개체 수, 밀원 종 및 개체 수\n",
    "- 분석 도구: 게피"
   ]
  },
  {
   "cell_type": "markdown",
   "metadata": {},
   "source": [
    "### 연구 결과"
   ]
  }
 ],
 "metadata": {
  "kernelspec": {
   "display_name": "Python 3",
   "language": "python",
   "name": "python3"
  },
  "language_info": {
   "name": "python",
   "version": "3.12.4"
  }
 },
 "nbformat": 4,
 "nbformat_minor": 2
}
