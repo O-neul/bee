{
 "cells": [
  {
   "cell_type": "code",
   "execution_count": 1,
   "metadata": {},
   "outputs": [],
   "source": [
    "import pandas as pd\n",
    "import numpy as np\n",
    "from itertools import combinations\n",
    "\n",
    "# 데이터 로드\n",
    "cerana = pd.read_csv('Apis_cerana_result.csv')\n",
    "mellifera = pd.read_csv('Apis_mellifera_result.csv')\n",
    "\n",
    "# 데이터 합치기 (각각 종 정보를 추가)\n",
    "cerana['종'] = 'Apis cerana'\n",
    "mellifera['종'] = 'Apis mellifera'\n",
    "combined_data = pd.concat([cerana, mellifera])\n",
    "\n",
    "# 노드 파일 생성\n",
    "nodes = combined_data[['ID', 'Latitude', 'Longitude', '종']].rename(columns={\n",
    "    'ID': 'Id',\n",
    "    'Latitude': 'x',\n",
    "    'Longitude': 'y'\n",
    "})\n",
    "nodes.to_csv('gephi_nodes.csv', index=False, encoding='utf-8-sig')\n",
    "\n",
    "# 엣지 파일 생성 (거리 기반 연결)\n",
    "edges = []\n",
    "threshold_distance = 0.01  # 거리 임계값 설정 (단위에 따라 조정 필요)\n",
    "coordinates = combined_data[['ID', 'Latitude', 'Longitude']].to_numpy()\n",
    "\n",
    "for (id1, lat1, long1), (id2, lat2, long2) in combinations(coordinates, 2):\n",
    "    distance = np.sqrt((lat1 - lat2) ** 2 + (long1 - long2) ** 2)\n",
    "    if distance <= threshold_distance:\n",
    "        edges.append([int(id1), int(id2), distance])\n",
    "\n",
    "edges_df = pd.DataFrame(edges, columns=['Source', 'Target', 'Weight'])\n",
    "edges_df.to_csv('gephi_edges.csv', index=False, encoding='utf-8-sig')\n"
   ]
  }
 ],
 "metadata": {
  "kernelspec": {
   "display_name": "Python 3",
   "language": "python",
   "name": "python3"
  },
  "language_info": {
   "codemirror_mode": {
    "name": "ipython",
    "version": 3
   },
   "file_extension": ".py",
   "mimetype": "text/x-python",
   "name": "python",
   "nbconvert_exporter": "python",
   "pygments_lexer": "ipython3",
   "version": "3.12.4"
  }
 },
 "nbformat": 4,
 "nbformat_minor": 2
}
