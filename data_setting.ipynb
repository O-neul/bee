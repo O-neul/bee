{
 "cells": [
  {
   "cell_type": "code",
   "execution_count": null,
   "metadata": {},
   "outputs": [],
   "source": [
    "import pandas as pd\n",
    "import numpy as np\n",
    "\n",
    "\n",
    "bee = pd.read_csv('bee_filtered.csv')\n",
    "tree = pd.read_csv('count_data.csv')\n",
    "\n",
    "\n",
    "bee1 = bee.copy()\n",
    "tree1 = tree.copy()\n",
    "\n",
    "\n",
    "tree1['ID'] = range(1, len(tree1) + 1)\n",
    "\n",
    "\n",
    "bee1['ID'] = 0\n",
    "\n",
    "\n",
    "bee_coords = bee[['Latitude', 'Longitude']].to_numpy()\n",
    "tree_coords = tree[['경도', '위도']].to_numpy()\n",
    "\n",
    "for i, bee_point in enumerate(bee_coords):\n",
    "    distances = np.sqrt(np.sum((tree_coords - bee_point) ** 2, axis=1))\n",
    "    closest_tree_idx = np.argmin(distances)\n",
    "    bee1.loc[i, 'ID'] = tree1.loc[closest_tree_idx, 'ID']\n",
    "\n",
    "\n",
    "bee1.to_csv('bee_result_updated.csv', index=False, encoding='utf-8-sig')\n",
    "tree1.to_csv('tree_result_updated.csv', index=False, encoding='utf-8-sig')\n"
   ]
  },
  {
   "cell_type": "code",
   "execution_count": 2,
   "metadata": {},
   "outputs": [],
   "source": [
    "bee_result = pd.read_csv('bee_result_updated.csv')\n",
    "tree_result = pd.read_csv('tree_result_updated.csv')\n",
    "\n",
    "\n",
    "merged_data = bee_result.merge(tree_result[['ID', '종', '카운트']], on='ID', how='left')\n",
    "\n",
    "merged_data.to_csv('merged_result.csv', index=False, encoding='utf-8-sig')\n"
   ]
  },
  {
   "cell_type": "code",
   "execution_count": null,
   "metadata": {},
   "outputs": [],
   "source": [
    "merged_data = pd.read_csv('merged_result.csv')\n",
    "\n",
    "\n",
    "Apis_cerana_data = merged_data[merged_data['축종'] == '벌-재래종']\n",
    "Apis_mellifera_data = merged_data[merged_data['축종'] == '벌-개량종']\n",
    "\n",
    "\n",
    "Apis_cerana_data.to_csv('Apis_cerana_result.csv', index=False, encoding='utf-8-sig')\n",
    "Apis_mellifera_data.to_csv('Apis_mellifera_result.csv', index=False, encoding='utf-8-sig')\n"
   ]
  }
 ],
 "metadata": {
  "kernelspec": {
   "display_name": "Python 3",
   "language": "python",
   "name": "python3"
  },
  "language_info": {
   "codemirror_mode": {
    "name": "ipython",
    "version": 3
   },
   "file_extension": ".py",
   "mimetype": "text/x-python",
   "name": "python",
   "nbconvert_exporter": "python",
   "pygments_lexer": "ipython3",
   "version": "3.12.4"
  }
 },
 "nbformat": 4,
 "nbformat_minor": 2
}
